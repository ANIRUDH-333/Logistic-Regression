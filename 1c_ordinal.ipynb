{
 "cells": [
  {
   "attachments": {},
   "cell_type": "markdown",
   "metadata": {},
   "source": [
    "<center><h1>Logistic Regression (Binary)</h1></center>"
   ]
  },
  {
   "attachments": {},
   "cell_type": "markdown",
   "metadata": {},
   "source": [
    "<center><h2>Coded by Anirudh Edpuganti</h2></center>\n",
    "<center>CB.EN.U4AIE20005</center>"
   ]
  },
  {
   "attachments": {},
   "cell_type": "markdown",
   "metadata": {},
   "source": [
    "## Create a complete document on Logistic Regression"
   ]
  },
  {
   "attachments": {},
   "cell_type": "markdown",
   "metadata": {},
   "source": [
    "### Model Representation"
   ]
  },
  {
   "attachments": {},
   "cell_type": "markdown",
   "metadata": {},
   "source": [
    "The logistic regression model can be represented mathematically as:\n",
    "\n",
    "$$ P(y=1|x_1,x_2,...,x_n) = \\frac{1}{1+e^{-z}} $$\n",
    "\n",
    "where, \\\n",
    "$P(y=1|x_1,x_2,...,x_n)$ is the probability that the dependent variable (y) is 1 given the values of the independent variables (x1, x2,...,xn) \\\n",
    "$z$ is the linear combination of the independent variables and their coefficients, given by:\n",
    "$$ z = b_0 + b_1x_1 + b_2x_2 + ... + b_nx_n $$\n",
    "$ b_1 - b_n $ are the weights given to the input features $ x_1 - x_n $ respectively. $b_0$ is the intercept.\n",
    "\n",
    "We see that everything is similar except giving the output to sigmoid function to compute the probability and classify.\n"
   ]
  },
  {
   "attachments": {},
   "cell_type": "markdown",
   "metadata": {},
   "source": [
    "### Cost Function"
   ]
  },
  {
   "attachments": {},
   "cell_type": "markdown",
   "metadata": {},
   "source": [
    "The cost function for logistic regression is defined as:\n",
    "\n",
    "$$ L(\\boldsymbol{b}) = -\\frac{1}{m} \\Sigma_{i=1}^m [y_i log(\\hat{y_i}) + (1-y_i)log(1-\\hat{y_i})] $$\n",
    "\n",
    "This is also called as the logistic loss function or the cross-entropy loss function.\n",
    "\n",
    "where:\n",
    "\n",
    "$m$ is the number of training examples \\\n",
    "$\\boldsymbol{b}$ is the vector of coefficients for the independent variables \\\n",
    "$y_{i}$ is the true label for the $i$-th training example \\\n",
    "$\\hat{y}_{i}$ is the predicted probability for the $i$-th training example \n",
    "\n",
    "The first term in the cost function measures the error when the true label is 1, and the second term measures the error when the true label is 0. When the predicted probability $\\hat{y}_{i}$ is close to the true label $y_{i}$, the cost function will be small. However, when the predicted probability is far from the true label, the cost function will be large.\n",
    "\n",
    "The goal of logistic regression is to find the set of coefficients $\\boldsymbol{b}$ that minimize the cost function $J(\\boldsymbol{b})$. We do this using optimization techniques such as gradient descent which was explained in Linear Regression."
   ]
  },
  {
   "attachments": {},
   "cell_type": "markdown",
   "metadata": {},
   "source": [
    "### Sigmoid function"
   ]
  },
  {
   "attachments": {},
   "cell_type": "markdown",
   "metadata": {},
   "source": [
    "Sigmoid function is used to model the relationship between the independent variables and the dependent variable. \n",
    "\n",
    "As discussed in the model representation, sigmoid function is as follows:\n",
    "\n",
    "$$ \\sigma(z) = \\frac{1}{1+e^{-z}} $$\n",
    "\n",
    "where $z$ is a linear combination of the independent variables and their coefficients:\n",
    "$$ z = b_0 + b_1x_1 + b_2x_2 + ... + b_nx_n $$\n",
    "\n",
    "The sigmoid function takes the input value $z$ and maps it to a value between 0 and 1, which represents the probability that the dependent variable is 1 given the values of the independent variables. When $z$ is positive, the sigmoid function outputs a value closer to 1, and when $z$ is negative, the sigmoid function outputs a value closer to 0.\n",
    "\n",
    "The sigmoid function has an S-shaped curve, which allows it to model nonlinear relationships between the independent variables and the dependent variable. In logistic regression, the goal is to find the set of coefficients $\\beta_0, \\beta_1, \\beta_2, \\cdots, \\beta_n$ that maximize the likelihood of the observed data. The sigmoid function is used to compute the predicted probabilities, which are then compared to the true labels to compute the likelihood of the observed data.\n",
    "\n",
    "Following is a visualization graph for sigmoid function."
   ]
  },
  {
   "attachments": {},
   "cell_type": "markdown",
   "metadata": {},
   "source": [
    "![sigmoid](.\\sigmoid.png)\n"
   ]
  },
  {
   "attachments": {},
   "cell_type": "markdown",
   "metadata": {},
   "source": [
    "### Type: Ordinal"
   ]
  },
  {
   "attachments": {},
   "cell_type": "markdown",
   "metadata": {},
   "source": [
    "Ordinal logistic regression is a statistical technique used for predicting an ordinal outcome variable, which has three or more levels that are ordered but not equally spaced. The technique is an extension of binary logistic regression, which is used for predicting binary outcomes.\n",
    "\n",
    "In ordinal logistic regression, the dependent variable is modeled as a function of one or more independent variables using a cumulative probability function. The model estimates the probability that the dependent variable falls into each of the ordinal categories given the values of the independent variables. The coefficients in the model represent the log odds of being in a higher category compared to a lower category, given the values of the independent variables."
   ]
  },
  {
   "attachments": {},
   "cell_type": "markdown",
   "metadata": {},
   "source": [
    "### Python program for Logistic regression (single and multi-variable; Binary, Multinomial and Ordinal )"
   ]
  },
  {
   "attachments": {},
   "cell_type": "markdown",
   "metadata": {},
   "source": [
    "#### load a classification data of your choice \n",
    "#### with and without (using linear regression model and sigmoid function) using an in-build python model.\n",
    "####  Train the model with 75% of total data and do the performance evaluation of the model using the remaining 25%(give the measures: Confusion Matrix, Accuracy, Precision, Recall etc.)\n",
    "#### Draw a performance plot of the logistic regression model(% of training data vs Accuracy)\n"
   ]
  },
  {
   "cell_type": "code",
   "execution_count": 84,
   "metadata": {},
   "outputs": [],
   "source": [
    "from sklearn.datasets import load_iris\n",
    "from sklearn.preprocessing import LabelEncoder\n",
    "from sklearn.model_selection import train_test_split\n",
    "from sklearn.linear_model import LogisticRegression, LinearRegression\n",
    "import numpy as np\n",
    "from sklearn.metrics import confusion_matrix, accuracy_score, precision_score, recall_score, f1_score, mean_squared_error\n",
    "import matplotlib.pyplot as plt"
   ]
  },
  {
   "attachments": {},
   "cell_type": "markdown",
   "metadata": {},
   "source": [
    "#### Ordinal Logistic Regression"
   ]
  },
  {
   "cell_type": "code",
   "execution_count": 85,
   "metadata": {},
   "outputs": [
    {
     "name": "stdout",
     "output_type": "stream",
     "text": [
      "(38,)\n",
      "(38,)\n",
      "Confusion matrix:\n",
      " [[15  0  0]\n",
      " [ 0 11  0]\n",
      " [ 0  0 12]]\n",
      "Accuracy: 1.0\n",
      "Precision: 1.0\n",
      "Recall: 1.0\n",
      "F1 score: 1.0\n"
     ]
    }
   ],
   "source": [
    "\n",
    "\n",
    "# Load the Iris dataset\n",
    "iris = load_iris()\n",
    "X = iris.data\n",
    "# Encode the target variable as ordinal values\n",
    "le = LabelEncoder()\n",
    "y = le.fit_transform(iris.target)\n",
    "\n",
    "# Split the dataset into train and test sets\n",
    "X_train, X_test, y_train, y_test = train_test_split(X, y, test_size=0.25, random_state=42)\n",
    "\n",
    "\n",
    "# Train an ordinal logistic regression model\n",
    "model = LogisticRegression(solver='liblinear')\n",
    "model.fit(X_train, y_train)\n",
    "\n",
    "# Make predictions on the test set\n",
    "y_pred = model.predict(X_test)\n",
    "# # Convert predicted ordinal values back to categorical labels\n",
    "# y_pred_labels = le.inverse_transform(y_pred)\n",
    "print(y_pred.shape)\n",
    "print(y_test.shape)\n",
    "cm = confusion_matrix(y_test, y_pred)\n",
    "# Compute the accuracy, precision, recall, and F1 score\n",
    "acc = accuracy_score(y_test, y_pred)\n",
    "prec = precision_score(y_test, y_pred, average='weighted')\n",
    "rec = recall_score(y_test, y_pred, average='weighted')\n",
    "f1 = f1_score(y_test, y_pred, average='weighted')\n",
    "\n",
    "# Print the results\n",
    "print(\"Confusion matrix:\\n\", cm)\n",
    "print(\"Accuracy:\", acc)\n",
    "print(\"Precision:\", prec)\n",
    "print(\"Recall:\", rec)\n",
    "print(\"F1 score:\", f1)\n"
   ]
  },
  {
   "cell_type": "code",
   "execution_count": 86,
   "metadata": {},
   "outputs": [
    {
     "data": {
      "image/png": "[encoded data removed]",
      "text/plain": [
       "<Figure size 640x480 with 1 Axes>"
      ]
     },
     "metadata": {},
     "output_type": "display_data"
    }
   ],
   "source": [
    "# Define the percentages of training data\n",
    "train_percentages = [0.5, 0.6,0.7,0.8,0.9]\n",
    "\n",
    "# Initialize an empty list to store the RMSE for each percentage\n",
    "rmse_scores = []\n",
    "\n",
    "# Loop over the percentages and fit the model\n",
    "for train_percentage in train_percentages:\n",
    "    X = iris.data\n",
    "    # Encode the target variable as ordinal values\n",
    "    le = LabelEncoder()\n",
    "    y = le.fit_transform(iris.target)\n",
    "    # Split the data into training and testing sets\n",
    "    X_train, X_test, y_train, y_test = train_test_split(X, y, train_size=train_percentage, random_state=42)\n",
    "    \n",
    "    model = LogisticRegression(solver='liblinear')\n",
    "    model.fit(X_train, y_train)\n",
    "\n",
    "    # Make predictions on the test set\n",
    "    y_pred = model.predict(X_test)\n",
    "\n",
    "    # Calculate the RMSE for this percentage\n",
    "    rmse = np.sqrt(mean_squared_error(y_test, y_pred))\n",
    "    rmse_scores.append(rmse)\n",
    "\n",
    "# Plot the results\n",
    "plt.plot(train_percentages, rmse_scores)\n",
    "plt.xlabel('Percentage of Training Data')\n",
    "plt.ylabel('RMSE')\n",
    "plt.title('Multinomial Logistic Regression')\n",
    "plt.show()"
   ]
  }
 ],
 "metadata": {
  "kernelspec": {
   "display_name": "Python 3",
   "language": "python",
   "name": "python3"
  },
  "language_info": {
   "codemirror_mode": {
    "name": "ipython",
    "version": 3
   },
   "file_extension": ".py",
   "mimetype": "text/x-python",
   "name": "python",
   "nbconvert_exporter": "python",
   "pygments_lexer": "ipython3",
   "version": "3.8.10"
  },
  "orig_nbformat": 4
 },
 "nbformat": 4,
 "nbformat_minor": 2
}
